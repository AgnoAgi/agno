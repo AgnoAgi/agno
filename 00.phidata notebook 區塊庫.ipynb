{
 "cells": [
  {
   "cell_type": "code",
   "execution_count": null,
   "metadata": {},
   "outputs": [],
   "source": [
    "\"\"\"\n",
    "# 1.使用 ollama 的 openhermes 模型\n",
    "# 2.使用 phidata 的命令行交互模式 assistant.cli_app()\n",
    "# 3.可以調用 DuckDuckGo 搜尋網路資源\n",
    "# 4.windows 環境偶而會發生ollama 模型載入失敗的問題，此時需開啟 powershell 視窗輸入 wsl --shutdown 關閉 wsl 環境後重開 ubuntu 環境\n",
    "# 案例：\n",
    "# Summarize the top stories on hackernews and reply in traditional chinese.\n",
    "# Today's Top 10 trending Repositories on GitHub? Introduce them using traditional chinese.\n",
    "# 爬取 GitHub Trending 頁面,以繁體中文解說前5的項目\n",
    "# 爬取 GitHub Trending 頁面,以繁體中文解說前5的項目,請使用我已經設定在系統環境變數 GITHUB_API_KEY 來爬取 \n",
    "# Summarize the top 3 stories on hackernews and translate them into traditional chinese.\n",
    "# Summarize the top 3 stories on hackernews and reply in traditional chinese. \n",
    "# Whats happening in Taiwan today? Summarize top 3 stories with sources and translate to traditional chinese.\n",
    "# Whats happening in Taiwan today? Summarize top 3 stories with sources and reply in traditional chinese. \n",
    "# Write a python script to plot a sine wave and save it to disc as a png file sine_wave.png\n",
    "# 搜尋 arxiv 有關GPT-4最新的3篇論文,請以繁體中文markdown格式存檔到 arxiv.md  \n",
    "# 搜尋網路並推薦台中2日遊的景點及行程規劃\n",
    "\"\"\""
   ]
  },
  {
   "cell_type": "code",
   "execution_count": null,
   "metadata": {},
   "outputs": [],
   "source": [
    "import textwrap\n",
    "from IPython.display import HTML, display, Markdown\n",
    "\n",
    "def to_markdown(text):\n",
    "  text = text.replace('•', '  *')\n",
    "  return Markdown(textwrap.indent(text, '> ', predicate=lambda _: True))"
   ]
  },
  {
   "cell_type": "code",
   "execution_count": null,
   "metadata": {},
   "outputs": [],
   "source": [
    "# 匯入依賴庫（套件）\n",
    "from phi.assistant import Assistant\n",
    "from phi.assistant.python import PythonAssistant\n",
    "from phi.llm.ollama import Ollama\n",
    "from phi.llm.openai.like import OpenAILike\n",
    "from pydantic import BaseModel, Field"
   ]
  },
  {
   "cell_type": "code",
   "execution_count": null,
   "metadata": {},
   "outputs": [],
   "source": [
    "from phi.assistant import Assistant\n",
    "from phi.llm.openai import OpenAIChat\n",
    "\n",
    "assistant = Assistant(\n",
    "    llm=OpenAIChat(model=\"gpt-3.5-turbo\"),\n",
    ")\n",
    "# assistant.cli_app(markdown=True)"
   ]
  },
  {
   "cell_type": "code",
   "execution_count": null,
   "metadata": {},
   "outputs": [],
   "source": [
    "# 匯入 tools(部分)\n",
    "from phi.tools.arxiv import ArxivTools\n",
    "from phi.tools.duckduckgo import DuckDuckGo\n",
    "from phi.tools.email import EmailTools\n",
    "from phi.tools.file import FileTools\n",
    "# from phi.tools.google import GoogleTools # 官方尚未完成\n",
    "from phi.tools.python import PythonTools\n",
    "from phi.tools.shell import ShellTools\n",
    "from phi.tools.wikipedia import WikipediaTools\n",
    "from phi.tools.website import WebsiteTools"
   ]
  },
  {
   "cell_type": "code",
   "execution_count": null,
   "metadata": {},
   "outputs": [],
   "source": [
    "# 自訂函數當成工具\n",
    "import httpx, json\n",
    "def get_top_hackernews_stories(num_stories: int = 10) -> str:\n",
    "    \"\"\"Use this function to get top stories from Hacker News.\n",
    "\n",
    "    Args:\n",
    "        num_stories (int): Number of stories to return. Defaults to 10.\n",
    "\n",
    "    Returns:\n",
    "        str: JSON string of top stories.\n",
    "    \"\"\"\n",
    "\n",
    "    # Fetch top story IDs\n",
    "    response = httpx.get('https://hacker-news.firebaseio.com/v0/topstories.json')\n",
    "    story_ids = response.json()\n",
    "\n",
    "    # Fetch story details\n",
    "    stories = []\n",
    "    for story_id in story_ids[:num_stories]:\n",
    "        story_response = httpx.get(f'https://hacker-news.firebaseio.com/v0/item/{story_id}.json')\n",
    "        story = story_response.json()\n",
    "        if \"text\" in story:\n",
    "            story.pop(\"text\", None)\n",
    "        stories.append(story)\n",
    "    return json.dumps(stories)"
   ]
  },
  {
   "cell_type": "code",
   "execution_count": null,
   "metadata": {},
   "outputs": [],
   "source": [
    "assistant = PythonAssistant(\n",
    "    # 沒有支援 gemini\n",
    "\t# llm=Ollama(model=\"codellama\"),            # 可以跑出結果，但結果錯誤 4.917 \n",
    "\t# llm=Ollama(model=\"llama2\"),               # 6.7、6.4 多次不同結果\n",
    "\t# llm=Ollama(model=\"llama2-uncensored\"),    # 可以跑出結果，但結果錯誤 7.15 \n",
    "\t# llm=Ollama(model=\"llava\"),                  # 可以跑出結果，但結果錯誤 6.5\n",
    "\t# llm=Ollama(model=\"mistral\"),               # 任務失敗，沒跑出結果\n",
    "\t# llm=Ollama(model=\"neural-chat\"),            # 可以跑出結果，但結果錯誤 6.9 \n",
    "\t# llm=Ollama(model=\"openchat\"),               # The average rating of movies is not provided in the given data file.\n",
    "\t# llm=Ollama(model=\"openhermes\"),           # 可以跑出結果，但結果錯誤 7.1\n",
    "    # llm=Ollama(model=\"openhermes\"),\n",
    "\t# llm=Ollama(model=\"qwen\"),                 # 任務失敗，很久還跑出亂碼\n",
    "\t# llm=Ollama(model=\"starling-lm\"),            # 可以跑出結果，但結果錯誤 7.3\n",
    "\t# 這些 ollama 的大模型都沒有成功調用 python 的 tools 來寫程式碼計算平均分數。失敗~\n",
    "    \n",
    "\t# 如果使用 gpt-3.5-turbo 幾乎每次都成功, 函數調用也沒問題\n",
    "    llm=OpenAIChat(model=\"gpt-3.5-turbo\"),\n",
    "\t\n",
    "\t# llm=OpenAILike(base_url=\"http://localhost:1234/v1\"),\n",
    "\t\n",
    "\tsystem_prompt=\"You ara a helpful assistant.\",\n",
    "\tdescription=\"You can use provided tools to help users solve any problems.\",\n",
    "\tuse_tools=True,\n",
    "\tshow_tool_calls=True,\n",
    "\ttools=[get_top_hackernews_stories, ArxivTools(), DuckDuckGo(), EmailTools(), FileTools(), PythonTools(), ShellTools(), WebsiteTools(), WikipediaTools()],  # GoogleTools(), \n",
    "\tpip_install=True,\n",
    "\tsave_and_run=True,\n",
    "\trun_code=True,\n",
    "\tdebug_mode=True,\n",
    "\tmarkdown=True\n",
    "\t)\n"
   ]
  },
  {
   "cell_type": "code",
   "execution_count": null,
   "metadata": {},
   "outputs": [],
   "source": [
    "# Summarize the top stories on hackernews today and translate to traditional chinese.\n",
    "# Search the top 5 stories on hackernews today. Summarize them and give me the links.\n",
    "# 搜尋 wikipedia,列出五月天歷年的專輯清單(無需其他說明),寫入檔案 五月天.txt\n",
    "task=\"Summarize the top 5 stories on hackernews today. Reply in traditional chinese\""
   ]
  },
  {
   "cell_type": "code",
   "execution_count": null,
   "metadata": {},
   "outputs": [],
   "source": [
    "assistant.print_response(task, markdown=True)\n",
    "# assistant.cli_app(markdown=False)"
   ]
  }
 ],
 "metadata": {
  "kernelspec": {
   "display_name": "venv",
   "language": "python",
   "name": "python3"
  },
  "language_info": {
   "codemirror_mode": {
    "name": "ipython",
    "version": 3
   },
   "file_extension": ".py",
   "mimetype": "text/x-python",
   "name": "python",
   "nbconvert_exporter": "python",
   "pygments_lexer": "ipython3",
   "version": "3.11.8"
  }
 },
 "nbformat": 4,
 "nbformat_minor": 2
}
